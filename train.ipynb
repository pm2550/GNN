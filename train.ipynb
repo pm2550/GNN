{
 "cells": [
  {
   "cell_type": "code",
   "execution_count": 10,
   "id": "91f19384",
   "metadata": {},
   "outputs": [],
   "source": [
    "import tensorflow as tf\n",
    "\n",
    "IMAGE_SIZE = 224  # 输入图像大小\n",
    "IMG_SHAPE = (IMAGE_SIZE, IMAGE_SIZE, 3)\n",
    "\n",
    "# 显式添加 Input 层，指定 batch_size=1\n",
    "inputs = tf.keras.Input(shape=IMG_SHAPE, batch_size=1)\n",
    "x = tf.keras.applications.MobileNetV2(input_shape=IMG_SHAPE, include_top=False, weights='imagenet', alpha=0.5)(inputs)\n",
    "x = tf.keras.layers.Conv2D(filters=32, kernel_size=3, activation='relu')(x)\n",
    "x = tf.keras.layers.Dropout(0.2)(x)\n",
    "x = tf.keras.layers.GlobalAveragePooling2D()(x)\n",
    "outputs = tf.keras.layers.Dense(units=5, activation='softmax')(x)\n",
    "small_model = tf.keras.Model(inputs, outputs)\n"
   ]
  },
  {
   "cell_type": "code",
   "execution_count": 12,
   "id": "4d353630",
   "metadata": {},
   "outputs": [
    {
     "name": "stderr",
     "output_type": "stream",
     "text": [
      "WARNING:absl:Found untraced functions such as _jit_compiled_convolution_op, _jit_compiled_convolution_op, _jit_compiled_convolution_op, _jit_compiled_convolution_op, _jit_compiled_convolution_op while saving (showing 5 of 53). These functions will not be directly callable after loading.\n"
     ]
    },
    {
     "name": "stderr",
     "output_type": "stream",
     "text": [
      "WARNING:absl:Found untraced functions such as _jit_compiled_convolution_op, _jit_compiled_convolution_op, _jit_compiled_convolution_op, _jit_compiled_convolution_op, _jit_compiled_convolution_op while saving (showing 5 of 53). These functions will not be directly callable after loading.\n"
     ]
    },
    {
     "name": "stdout",
     "output_type": "stream",
     "text": [
      "INFO:tensorflow:Assets written to: /tmp/tmpd3unu98z/assets\n"
     ]
    },
    {
     "name": "stderr",
     "output_type": "stream",
     "text": [
      "INFO:tensorflow:Assets written to: /tmp/tmpd3unu98z/assets\n",
      "/usr/local/lib/python3.8/dist-packages/tensorflow/lite/python/convert.py:766: UserWarning: Statistics for quantized inputs were expected, but not specified; continuing anyway.\n",
      "  warnings.warn(\"Statistics for quantized inputs were expected, but not \"\n",
      "/usr/local/lib/python3.8/dist-packages/tensorflow/lite/python/convert.py:766: UserWarning: Statistics for quantized inputs were expected, but not specified; continuing anyway.\n",
      "  warnings.warn(\"Statistics for quantized inputs were expected, but not \"\n",
      "2025-05-16 06:12:01.980546: W tensorflow/compiler/mlir/lite/python/tf_tfl_flatbuffer_helpers.cc:362] Ignored output_format.\n",
      "2025-05-16 06:12:01.980620: W tensorflow/compiler/mlir/lite/python/tf_tfl_flatbuffer_helpers.cc:365] Ignored drop_control_dependency.\n",
      "2025-05-16 06:12:01.980784: I tensorflow/cc/saved_model/reader.cc:45] Reading SavedModel from: /tmp/tmpd3unu98z\n",
      "2025-05-16 06:12:02.000365: I tensorflow/cc/saved_model/reader.cc:89] Reading meta graph with tags { serve }\n",
      "2025-05-16 06:12:02.000424: I tensorflow/cc/saved_model/reader.cc:130] Reading SavedModel debug info (if present) from: /tmp/tmpd3unu98z\n",
      "2025-05-16 06:12:02.123748: I tensorflow/cc/saved_model/loader.cc:229] Restoring SavedModel bundle.\n",
      "2025-05-16 06:12:02.439824: I tensorflow/cc/saved_model/loader.cc:213] Running initialization op on SavedModel bundle at path: /tmp/tmpd3unu98z\n",
      "2025-05-16 06:12:02.539900: I tensorflow/cc/saved_model/loader.cc:305] SavedModel load for tags { serve }; Status: success: OK. Took 559118 microseconds.\n",
      "2025-05-16 06:12:03.211544: I tensorflow/compiler/mlir/lite/flatbuffer_export.cc:1989] Estimated count of arithmetic ops: 213.898 M  ops, equivalently 106.949 M  MACs\n",
      "\n",
      "2025-05-16 06:12:01.980546: W tensorflow/compiler/mlir/lite/python/tf_tfl_flatbuffer_helpers.cc:362] Ignored output_format.\n",
      "2025-05-16 06:12:01.980620: W tensorflow/compiler/mlir/lite/python/tf_tfl_flatbuffer_helpers.cc:365] Ignored drop_control_dependency.\n",
      "2025-05-16 06:12:01.980784: I tensorflow/cc/saved_model/reader.cc:45] Reading SavedModel from: /tmp/tmpd3unu98z\n",
      "2025-05-16 06:12:02.000365: I tensorflow/cc/saved_model/reader.cc:89] Reading meta graph with tags { serve }\n",
      "2025-05-16 06:12:02.000424: I tensorflow/cc/saved_model/reader.cc:130] Reading SavedModel debug info (if present) from: /tmp/tmpd3unu98z\n",
      "2025-05-16 06:12:02.123748: I tensorflow/cc/saved_model/loader.cc:229] Restoring SavedModel bundle.\n",
      "2025-05-16 06:12:02.439824: I tensorflow/cc/saved_model/loader.cc:213] Running initialization op on SavedModel bundle at path: /tmp/tmpd3unu98z\n",
      "2025-05-16 06:12:02.539900: I tensorflow/cc/saved_model/loader.cc:305] SavedModel load for tags { serve }; Status: success: OK. Took 559118 microseconds.\n",
      "2025-05-16 06:12:03.211544: I tensorflow/compiler/mlir/lite/flatbuffer_export.cc:1989] Estimated count of arithmetic ops: 213.898 M  ops, equivalently 106.949 M  MACs\n",
      "\n"
     ]
    },
    {
     "name": "stderr",
     "output_type": "stream",
     "text": [
      "WARNING:absl:Found untraced functions such as _jit_compiled_convolution_op, _jit_compiled_convolution_op, _jit_compiled_convolution_op, _jit_compiled_convolution_op, _jit_compiled_convolution_op while saving (showing 5 of 53). These functions will not be directly callable after loading.\n"
     ]
    },
    {
     "name": "stdout",
     "output_type": "stream",
     "text": [
      "INFO:tensorflow:Assets written to: /tmp/tmpd3unu98z/assets\n"
     ]
    },
    {
     "name": "stderr",
     "output_type": "stream",
     "text": [
      "INFO:tensorflow:Assets written to: /tmp/tmpd3unu98z/assets\n",
      "/usr/local/lib/python3.8/dist-packages/tensorflow/lite/python/convert.py:766: UserWarning: Statistics for quantized inputs were expected, but not specified; continuing anyway.\n",
      "  warnings.warn(\"Statistics for quantized inputs were expected, but not \"\n",
      "/usr/local/lib/python3.8/dist-packages/tensorflow/lite/python/convert.py:766: UserWarning: Statistics for quantized inputs were expected, but not specified; continuing anyway.\n",
      "  warnings.warn(\"Statistics for quantized inputs were expected, but not \"\n",
      "2025-05-16 06:12:01.980546: W tensorflow/compiler/mlir/lite/python/tf_tfl_flatbuffer_helpers.cc:362] Ignored output_format.\n",
      "2025-05-16 06:12:01.980620: W tensorflow/compiler/mlir/lite/python/tf_tfl_flatbuffer_helpers.cc:365] Ignored drop_control_dependency.\n",
      "2025-05-16 06:12:01.980784: I tensorflow/cc/saved_model/reader.cc:45] Reading SavedModel from: /tmp/tmpd3unu98z\n",
      "2025-05-16 06:12:02.000365: I tensorflow/cc/saved_model/reader.cc:89] Reading meta graph with tags { serve }\n",
      "2025-05-16 06:12:02.000424: I tensorflow/cc/saved_model/reader.cc:130] Reading SavedModel debug info (if present) from: /tmp/tmpd3unu98z\n",
      "2025-05-16 06:12:02.123748: I tensorflow/cc/saved_model/loader.cc:229] Restoring SavedModel bundle.\n",
      "2025-05-16 06:12:02.439824: I tensorflow/cc/saved_model/loader.cc:213] Running initialization op on SavedModel bundle at path: /tmp/tmpd3unu98z\n",
      "2025-05-16 06:12:02.539900: I tensorflow/cc/saved_model/loader.cc:305] SavedModel load for tags { serve }; Status: success: OK. Took 559118 microseconds.\n",
      "2025-05-16 06:12:03.211544: I tensorflow/compiler/mlir/lite/flatbuffer_export.cc:1989] Estimated count of arithmetic ops: 213.898 M  ops, equivalently 106.949 M  MACs\n",
      "\n",
      "2025-05-16 06:12:01.980546: W tensorflow/compiler/mlir/lite/python/tf_tfl_flatbuffer_helpers.cc:362] Ignored output_format.\n",
      "2025-05-16 06:12:01.980620: W tensorflow/compiler/mlir/lite/python/tf_tfl_flatbuffer_helpers.cc:365] Ignored drop_control_dependency.\n",
      "2025-05-16 06:12:01.980784: I tensorflow/cc/saved_model/reader.cc:45] Reading SavedModel from: /tmp/tmpd3unu98z\n",
      "2025-05-16 06:12:02.000365: I tensorflow/cc/saved_model/reader.cc:89] Reading meta graph with tags { serve }\n",
      "2025-05-16 06:12:02.000424: I tensorflow/cc/saved_model/reader.cc:130] Reading SavedModel debug info (if present) from: /tmp/tmpd3unu98z\n",
      "2025-05-16 06:12:02.123748: I tensorflow/cc/saved_model/loader.cc:229] Restoring SavedModel bundle.\n",
      "2025-05-16 06:12:02.439824: I tensorflow/cc/saved_model/loader.cc:213] Running initialization op on SavedModel bundle at path: /tmp/tmpd3unu98z\n",
      "2025-05-16 06:12:02.539900: I tensorflow/cc/saved_model/loader.cc:305] SavedModel load for tags { serve }; Status: success: OK. Took 559118 microseconds.\n",
      "2025-05-16 06:12:03.211544: I tensorflow/compiler/mlir/lite/flatbuffer_export.cc:1989] Estimated count of arithmetic ops: 213.898 M  ops, equivalently 106.949 M  MACs\n",
      "\n"
     ]
    },
    {
     "name": "stdout",
     "output_type": "stream",
     "text": [
      "Estimated count of arithmetic ops: 213.898 M  ops, equivalently 106.949 M  MACs\n",
      "Estimated count of arithmetic ops: 213.898 M  ops, equivalently 106.949 M  MACs\n",
      "Estimated count of arithmetic ops: 213.898 M  ops, equivalently 106.949 M  MACs\n"
     ]
    },
    {
     "name": "stderr",
     "output_type": "stream",
     "text": [
      "WARNING:absl:Found untraced functions such as _jit_compiled_convolution_op, _jit_compiled_convolution_op, _jit_compiled_convolution_op, _jit_compiled_convolution_op, _jit_compiled_convolution_op while saving (showing 5 of 53). These functions will not be directly callable after loading.\n"
     ]
    },
    {
     "name": "stdout",
     "output_type": "stream",
     "text": [
      "INFO:tensorflow:Assets written to: /tmp/tmpd3unu98z/assets\n"
     ]
    },
    {
     "name": "stderr",
     "output_type": "stream",
     "text": [
      "INFO:tensorflow:Assets written to: /tmp/tmpd3unu98z/assets\n",
      "/usr/local/lib/python3.8/dist-packages/tensorflow/lite/python/convert.py:766: UserWarning: Statistics for quantized inputs were expected, but not specified; continuing anyway.\n",
      "  warnings.warn(\"Statistics for quantized inputs were expected, but not \"\n",
      "/usr/local/lib/python3.8/dist-packages/tensorflow/lite/python/convert.py:766: UserWarning: Statistics for quantized inputs were expected, but not specified; continuing anyway.\n",
      "  warnings.warn(\"Statistics for quantized inputs were expected, but not \"\n",
      "2025-05-16 06:12:01.980546: W tensorflow/compiler/mlir/lite/python/tf_tfl_flatbuffer_helpers.cc:362] Ignored output_format.\n",
      "2025-05-16 06:12:01.980620: W tensorflow/compiler/mlir/lite/python/tf_tfl_flatbuffer_helpers.cc:365] Ignored drop_control_dependency.\n",
      "2025-05-16 06:12:01.980784: I tensorflow/cc/saved_model/reader.cc:45] Reading SavedModel from: /tmp/tmpd3unu98z\n",
      "2025-05-16 06:12:02.000365: I tensorflow/cc/saved_model/reader.cc:89] Reading meta graph with tags { serve }\n",
      "2025-05-16 06:12:02.000424: I tensorflow/cc/saved_model/reader.cc:130] Reading SavedModel debug info (if present) from: /tmp/tmpd3unu98z\n",
      "2025-05-16 06:12:02.123748: I tensorflow/cc/saved_model/loader.cc:229] Restoring SavedModel bundle.\n",
      "2025-05-16 06:12:02.439824: I tensorflow/cc/saved_model/loader.cc:213] Running initialization op on SavedModel bundle at path: /tmp/tmpd3unu98z\n",
      "2025-05-16 06:12:02.539900: I tensorflow/cc/saved_model/loader.cc:305] SavedModel load for tags { serve }; Status: success: OK. Took 559118 microseconds.\n",
      "2025-05-16 06:12:03.211544: I tensorflow/compiler/mlir/lite/flatbuffer_export.cc:1989] Estimated count of arithmetic ops: 213.898 M  ops, equivalently 106.949 M  MACs\n",
      "\n",
      "2025-05-16 06:12:01.980546: W tensorflow/compiler/mlir/lite/python/tf_tfl_flatbuffer_helpers.cc:362] Ignored output_format.\n",
      "2025-05-16 06:12:01.980620: W tensorflow/compiler/mlir/lite/python/tf_tfl_flatbuffer_helpers.cc:365] Ignored drop_control_dependency.\n",
      "2025-05-16 06:12:01.980784: I tensorflow/cc/saved_model/reader.cc:45] Reading SavedModel from: /tmp/tmpd3unu98z\n",
      "2025-05-16 06:12:02.000365: I tensorflow/cc/saved_model/reader.cc:89] Reading meta graph with tags { serve }\n",
      "2025-05-16 06:12:02.000424: I tensorflow/cc/saved_model/reader.cc:130] Reading SavedModel debug info (if present) from: /tmp/tmpd3unu98z\n",
      "2025-05-16 06:12:02.123748: I tensorflow/cc/saved_model/loader.cc:229] Restoring SavedModel bundle.\n",
      "2025-05-16 06:12:02.439824: I tensorflow/cc/saved_model/loader.cc:213] Running initialization op on SavedModel bundle at path: /tmp/tmpd3unu98z\n",
      "2025-05-16 06:12:02.539900: I tensorflow/cc/saved_model/loader.cc:305] SavedModel load for tags { serve }; Status: success: OK. Took 559118 microseconds.\n",
      "2025-05-16 06:12:03.211544: I tensorflow/compiler/mlir/lite/flatbuffer_export.cc:1989] Estimated count of arithmetic ops: 213.898 M  ops, equivalently 106.949 M  MACs\n",
      "\n"
     ]
    },
    {
     "name": "stdout",
     "output_type": "stream",
     "text": [
      "Estimated count of arithmetic ops: 213.898 M  ops, equivalently 106.949 M  MACs\n",
      "Estimated count of arithmetic ops: 213.898 M  ops, equivalently 106.949 M  MACs\n",
      "Estimated count of arithmetic ops: 213.898 M  ops, equivalently 106.949 M  MACs\n"
     ]
    },
    {
     "name": "stderr",
     "output_type": "stream",
     "text": [
      "fully_quantize: 0, inference_type: 6, input_inference_type: INT8, output_inference_type: INT8\n",
      "2025-05-16 06:12:07.047952: I tensorflow/compiler/mlir/lite/flatbuffer_export.cc:1989] Estimated count of arithmetic ops: 213.898 M  ops, equivalently 106.949 M  MACs\n",
      "\n"
     ]
    }
   ],
   "source": [
    "import numpy as np\n",
    "\n",
    "# 准备代表性数据集生成器（用于量化校准）\n",
    "def representative_dataset():\n",
    "    for _ in range(100):\n",
    "        data = np.random.rand(1, IMAGE_SIZE, IMAGE_SIZE, 3).astype(np.float32)\n",
    "        # MobileNetV2 预训练模型期望输入在 [-1, 1]，故做归一化\n",
    "        data = data / 127.5 - 1.0\n",
    "        yield [data]\n",
    "\n",
    "# 将小模型转换为 INT8 量化的 TFLite 模型\n",
    "converter = tf.lite.TFLiteConverter.from_keras_model(small_model)\n",
    "converter.optimizations = [tf.lite.Optimize.DEFAULT]\n",
    "converter.representative_dataset = representative_dataset\n",
    "converter.target_spec.supported_ops = [tf.lite.OpsSet.TFLITE_BUILTINS_INT8]\n",
    "converter.inference_input_type = tf.int8   # 输入tensor类型为INT8\n",
    "converter.inference_output_type = tf.int8  # 输出tensor类型为INT8\n",
    "tflite_small_model = converter.convert()\n",
    "with open(\"small_model.tflite\", \"wb\") as f:\n",
    "    f.write(tflite_small_model)\n"
   ]
  },
  {
   "cell_type": "code",
   "execution_count": 1,
   "id": "77c49ee8",
   "metadata": {},
   "outputs": [
    {
     "name": "stderr",
     "output_type": "stream",
     "text": [
      "2025-05-16 06:32:24.820250: I tensorflow/core/platform/cpu_feature_guard.cc:193] This TensorFlow binary is optimized with oneAPI Deep Neural Network Library (oneDNN) to use the following CPU instructions in performance-critical operations:  AVX2 FMA\n",
      "To enable them in other operations, rebuild TensorFlow with the appropriate compiler flags.\n",
      "2025-05-16 06:32:25.020267: E tensorflow/stream_executor/cuda/cuda_blas.cc:2981] Unable to register cuBLAS factory: Attempting to register factory for plugin cuBLAS when one has already been registered\n",
      "2025-05-16 06:32:25.020267: E tensorflow/stream_executor/cuda/cuda_blas.cc:2981] Unable to register cuBLAS factory: Attempting to register factory for plugin cuBLAS when one has already been registered\n"
     ]
    },
    {
     "name": "stderr",
     "output_type": "stream",
     "text": [
      "2025-05-16 06:32:24.820250: I tensorflow/core/platform/cpu_feature_guard.cc:193] This TensorFlow binary is optimized with oneAPI Deep Neural Network Library (oneDNN) to use the following CPU instructions in performance-critical operations:  AVX2 FMA\n",
      "To enable them in other operations, rebuild TensorFlow with the appropriate compiler flags.\n",
      "2025-05-16 06:32:25.020267: E tensorflow/stream_executor/cuda/cuda_blas.cc:2981] Unable to register cuBLAS factory: Attempting to register factory for plugin cuBLAS when one has already been registered\n",
      "2025-05-16 06:32:25.020267: E tensorflow/stream_executor/cuda/cuda_blas.cc:2981] Unable to register cuBLAS factory: Attempting to register factory for plugin cuBLAS when one has already been registered\n"
     ]
    },
    {
     "ename": "KeyboardInterrupt",
     "evalue": "",
     "output_type": "error",
     "traceback": [
      "\u001b[0;31m---------------------------------------------------------------------------\u001b[0m",
      "\u001b[0;31mKeyboardInterrupt\u001b[0m                         Traceback (most recent call last)",
      "Cell \u001b[0;32mIn[1], line 1\u001b[0m\n\u001b[0;32m----> 1\u001b[0m \u001b[38;5;28;01mimport\u001b[39;00m\u001b[38;5;250m \u001b[39m\u001b[38;5;21;01mtensorflow\u001b[39;00m\u001b[38;5;250m \u001b[39m\u001b[38;5;28;01mas\u001b[39;00m\u001b[38;5;250m \u001b[39m\u001b[38;5;21;01mtf\u001b[39;00m\u001b[38;5;241m,\u001b[39m\u001b[38;5;250m \u001b[39m\u001b[38;5;21;01mnumpy\u001b[39;00m\u001b[38;5;250m \u001b[39m\u001b[38;5;28;01mas\u001b[39;00m\u001b[38;5;250m \u001b[39m\u001b[38;5;21;01mnp\u001b[39;00m\u001b[38;5;241m,\u001b[39m\u001b[38;5;250m \u001b[39m\u001b[38;5;21;01mos\u001b[39;00m\n\u001b[1;32m      3\u001b[0m IMG \u001b[38;5;241m=\u001b[39m \u001b[38;5;241m224\u001b[39m\n\u001b[1;32m      4\u001b[0m IMG_SHAPE \u001b[38;5;241m=\u001b[39m (IMG, IMG, \u001b[38;5;241m3\u001b[39m)\n",
      "File \u001b[0;32m/usr/local/lib/python3.8/dist-packages/tensorflow/__init__.py:37\u001b[0m\n\u001b[1;32m     34\u001b[0m \u001b[38;5;28;01mimport\u001b[39;00m\u001b[38;5;250m \u001b[39m\u001b[38;5;21;01msys\u001b[39;00m\u001b[38;5;250m \u001b[39m\u001b[38;5;28;01mas\u001b[39;00m\u001b[38;5;250m \u001b[39m\u001b[38;5;21;01m_sys\u001b[39;00m\n\u001b[1;32m     35\u001b[0m \u001b[38;5;28;01mimport\u001b[39;00m\u001b[38;5;250m \u001b[39m\u001b[38;5;21;01mtyping\u001b[39;00m\u001b[38;5;250m \u001b[39m\u001b[38;5;28;01mas\u001b[39;00m\u001b[38;5;250m \u001b[39m\u001b[38;5;21;01m_typing\u001b[39;00m\n\u001b[0;32m---> 37\u001b[0m \u001b[38;5;28;01mfrom\u001b[39;00m\u001b[38;5;250m \u001b[39m\u001b[38;5;21;01mtensorflow\u001b[39;00m\u001b[38;5;21;01m.\u001b[39;00m\u001b[38;5;21;01mpython\u001b[39;00m\u001b[38;5;21;01m.\u001b[39;00m\u001b[38;5;21;01mtools\u001b[39;00m\u001b[38;5;250m \u001b[39m\u001b[38;5;28;01mimport\u001b[39;00m module_util \u001b[38;5;28;01mas\u001b[39;00m _module_util\n\u001b[1;32m     38\u001b[0m \u001b[38;5;28;01mfrom\u001b[39;00m\u001b[38;5;250m \u001b[39m\u001b[38;5;21;01mtensorflow\u001b[39;00m\u001b[38;5;21;01m.\u001b[39;00m\u001b[38;5;21;01mpython\u001b[39;00m\u001b[38;5;21;01m.\u001b[39;00m\u001b[38;5;21;01mutil\u001b[39;00m\u001b[38;5;21;01m.\u001b[39;00m\u001b[38;5;21;01mlazy_loader\u001b[39;00m\u001b[38;5;250m \u001b[39m\u001b[38;5;28;01mimport\u001b[39;00m LazyLoader \u001b[38;5;28;01mas\u001b[39;00m _LazyLoader\n\u001b[1;32m     40\u001b[0m \u001b[38;5;66;03m# Make sure code inside the TensorFlow codebase can use tf2.enabled() at import.\u001b[39;00m\n",
      "File \u001b[0;32m/usr/local/lib/python3.8/dist-packages/tensorflow/python/__init__.py:42\u001b[0m\n\u001b[1;32m     37\u001b[0m \u001b[38;5;28;01mfrom\u001b[39;00m\u001b[38;5;250m \u001b[39m\u001b[38;5;21;01mtensorflow\u001b[39;00m\u001b[38;5;21;01m.\u001b[39;00m\u001b[38;5;21;01mpython\u001b[39;00m\u001b[38;5;21;01m.\u001b[39;00m\u001b[38;5;21;01meager\u001b[39;00m\u001b[38;5;250m \u001b[39m\u001b[38;5;28;01mimport\u001b[39;00m context\n\u001b[1;32m     39\u001b[0m \u001b[38;5;66;03m# pylint: enable=wildcard-import\u001b[39;00m\n\u001b[1;32m     40\u001b[0m \n\u001b[1;32m     41\u001b[0m \u001b[38;5;66;03m# Bring in subpackages.\u001b[39;00m\n\u001b[0;32m---> 42\u001b[0m \u001b[38;5;28;01mfrom\u001b[39;00m\u001b[38;5;250m \u001b[39m\u001b[38;5;21;01mtensorflow\u001b[39;00m\u001b[38;5;21;01m.\u001b[39;00m\u001b[38;5;21;01mpython\u001b[39;00m\u001b[38;5;250m \u001b[39m\u001b[38;5;28;01mimport\u001b[39;00m data\n\u001b[1;32m     43\u001b[0m \u001b[38;5;28;01mfrom\u001b[39;00m\u001b[38;5;250m \u001b[39m\u001b[38;5;21;01mtensorflow\u001b[39;00m\u001b[38;5;21;01m.\u001b[39;00m\u001b[38;5;21;01mpython\u001b[39;00m\u001b[38;5;250m \u001b[39m\u001b[38;5;28;01mimport\u001b[39;00m distribute\n\u001b[1;32m     44\u001b[0m \u001b[38;5;66;03m# from tensorflow.python import keras\u001b[39;00m\n",
      "File \u001b[0;32m/usr/local/lib/python3.8/dist-packages/tensorflow/python/data/__init__.py:21\u001b[0m\n\u001b[1;32m     15\u001b[0m \u001b[38;5;124;03m\"\"\"`tf.data.Dataset` API for input pipelines.\u001b[39;00m\n\u001b[1;32m     16\u001b[0m \n\u001b[1;32m     17\u001b[0m \u001b[38;5;124;03mSee [Importing Data](https://tensorflow.org/guide/data) for an overview.\u001b[39;00m\n\u001b[1;32m     18\u001b[0m \u001b[38;5;124;03m\"\"\"\u001b[39;00m\n\u001b[1;32m     20\u001b[0m \u001b[38;5;66;03m# pylint: disable=unused-import\u001b[39;00m\n\u001b[0;32m---> 21\u001b[0m \u001b[38;5;28;01mfrom\u001b[39;00m\u001b[38;5;250m \u001b[39m\u001b[38;5;21;01mtensorflow\u001b[39;00m\u001b[38;5;21;01m.\u001b[39;00m\u001b[38;5;21;01mpython\u001b[39;00m\u001b[38;5;21;01m.\u001b[39;00m\u001b[38;5;21;01mdata\u001b[39;00m\u001b[38;5;250m \u001b[39m\u001b[38;5;28;01mimport\u001b[39;00m experimental\n\u001b[1;32m     22\u001b[0m \u001b[38;5;28;01mfrom\u001b[39;00m\u001b[38;5;250m \u001b[39m\u001b[38;5;21;01mtensorflow\u001b[39;00m\u001b[38;5;21;01m.\u001b[39;00m\u001b[38;5;21;01mpython\u001b[39;00m\u001b[38;5;21;01m.\u001b[39;00m\u001b[38;5;21;01mdata\u001b[39;00m\u001b[38;5;21;01m.\u001b[39;00m\u001b[38;5;21;01mops\u001b[39;00m\u001b[38;5;21;01m.\u001b[39;00m\u001b[38;5;21;01mdataset_ops\u001b[39;00m\u001b[38;5;250m \u001b[39m\u001b[38;5;28;01mimport\u001b[39;00m AUTOTUNE\n\u001b[1;32m     23\u001b[0m \u001b[38;5;28;01mfrom\u001b[39;00m\u001b[38;5;250m \u001b[39m\u001b[38;5;21;01mtensorflow\u001b[39;00m\u001b[38;5;21;01m.\u001b[39;00m\u001b[38;5;21;01mpython\u001b[39;00m\u001b[38;5;21;01m.\u001b[39;00m\u001b[38;5;21;01mdata\u001b[39;00m\u001b[38;5;21;01m.\u001b[39;00m\u001b[38;5;21;01mops\u001b[39;00m\u001b[38;5;21;01m.\u001b[39;00m\u001b[38;5;21;01mdataset_ops\u001b[39;00m\u001b[38;5;250m \u001b[39m\u001b[38;5;28;01mimport\u001b[39;00m Dataset\n",
      "File \u001b[0;32m/usr/local/lib/python3.8/dist-packages/tensorflow/python/data/experimental/__init__.py:129\u001b[0m\n\u001b[1;32m    127\u001b[0m \u001b[38;5;28;01mfrom\u001b[39;00m\u001b[38;5;250m \u001b[39m\u001b[38;5;21;01mtensorflow\u001b[39;00m\u001b[38;5;21;01m.\u001b[39;00m\u001b[38;5;21;01mpython\u001b[39;00m\u001b[38;5;21;01m.\u001b[39;00m\u001b[38;5;21;01mdata\u001b[39;00m\u001b[38;5;21;01m.\u001b[39;00m\u001b[38;5;21;01mexperimental\u001b[39;00m\u001b[38;5;21;01m.\u001b[39;00m\u001b[38;5;21;01mops\u001b[39;00m\u001b[38;5;21;01m.\u001b[39;00m\u001b[38;5;21;01mprefetching_ops\u001b[39;00m\u001b[38;5;250m \u001b[39m\u001b[38;5;28;01mimport\u001b[39;00m copy_to_device\n\u001b[1;32m    128\u001b[0m \u001b[38;5;28;01mfrom\u001b[39;00m\u001b[38;5;250m \u001b[39m\u001b[38;5;21;01mtensorflow\u001b[39;00m\u001b[38;5;21;01m.\u001b[39;00m\u001b[38;5;21;01mpython\u001b[39;00m\u001b[38;5;21;01m.\u001b[39;00m\u001b[38;5;21;01mdata\u001b[39;00m\u001b[38;5;21;01m.\u001b[39;00m\u001b[38;5;21;01mexperimental\u001b[39;00m\u001b[38;5;21;01m.\u001b[39;00m\u001b[38;5;21;01mops\u001b[39;00m\u001b[38;5;21;01m.\u001b[39;00m\u001b[38;5;21;01mprefetching_ops\u001b[39;00m\u001b[38;5;250m \u001b[39m\u001b[38;5;28;01mimport\u001b[39;00m prefetch_to_device\n\u001b[0;32m--> 129\u001b[0m \u001b[38;5;28;01mfrom\u001b[39;00m\u001b[38;5;250m \u001b[39m\u001b[38;5;21;01mtensorflow\u001b[39;00m\u001b[38;5;21;01m.\u001b[39;00m\u001b[38;5;21;01mpython\u001b[39;00m\u001b[38;5;21;01m.\u001b[39;00m\u001b[38;5;21;01mdata\u001b[39;00m\u001b[38;5;21;01m.\u001b[39;00m\u001b[38;5;21;01mexperimental\u001b[39;00m\u001b[38;5;21;01m.\u001b[39;00m\u001b[38;5;21;01mops\u001b[39;00m\u001b[38;5;21;01m.\u001b[39;00m\u001b[38;5;21;01mrandom_ops\u001b[39;00m\u001b[38;5;250m \u001b[39m\u001b[38;5;28;01mimport\u001b[39;00m RandomDataset\n\u001b[1;32m    130\u001b[0m \u001b[38;5;28;01mfrom\u001b[39;00m\u001b[38;5;250m \u001b[39m\u001b[38;5;21;01mtensorflow\u001b[39;00m\u001b[38;5;21;01m.\u001b[39;00m\u001b[38;5;21;01mpython\u001b[39;00m\u001b[38;5;21;01m.\u001b[39;00m\u001b[38;5;21;01mdata\u001b[39;00m\u001b[38;5;21;01m.\u001b[39;00m\u001b[38;5;21;01mexperimental\u001b[39;00m\u001b[38;5;21;01m.\u001b[39;00m\u001b[38;5;21;01mops\u001b[39;00m\u001b[38;5;21;01m.\u001b[39;00m\u001b[38;5;21;01mreaders\u001b[39;00m\u001b[38;5;250m \u001b[39m\u001b[38;5;28;01mimport\u001b[39;00m CsvDataset\n\u001b[1;32m    131\u001b[0m \u001b[38;5;28;01mfrom\u001b[39;00m\u001b[38;5;250m \u001b[39m\u001b[38;5;21;01mtensorflow\u001b[39;00m\u001b[38;5;21;01m.\u001b[39;00m\u001b[38;5;21;01mpython\u001b[39;00m\u001b[38;5;21;01m.\u001b[39;00m\u001b[38;5;21;01mdata\u001b[39;00m\u001b[38;5;21;01m.\u001b[39;00m\u001b[38;5;21;01mexperimental\u001b[39;00m\u001b[38;5;21;01m.\u001b[39;00m\u001b[38;5;21;01mops\u001b[39;00m\u001b[38;5;21;01m.\u001b[39;00m\u001b[38;5;21;01mreaders\u001b[39;00m\u001b[38;5;250m \u001b[39m\u001b[38;5;28;01mimport\u001b[39;00m make_batched_features_dataset\n",
      "File \u001b[0;32m/usr/local/lib/python3.8/dist-packages/tensorflow/python/data/experimental/ops/random_ops.py:26\u001b[0m\n\u001b[1;32m     20\u001b[0m \u001b[38;5;28;01mfrom\u001b[39;00m\u001b[38;5;250m \u001b[39m\u001b[38;5;21;01mtensorflow\u001b[39;00m\u001b[38;5;21;01m.\u001b[39;00m\u001b[38;5;21;01mpython\u001b[39;00m\u001b[38;5;21;01m.\u001b[39;00m\u001b[38;5;21;01mutil\u001b[39;00m\u001b[38;5;250m \u001b[39m\u001b[38;5;28;01mimport\u001b[39;00m deprecation\n\u001b[1;32m     21\u001b[0m \u001b[38;5;28;01mfrom\u001b[39;00m\u001b[38;5;250m \u001b[39m\u001b[38;5;21;01mtensorflow\u001b[39;00m\u001b[38;5;21;01m.\u001b[39;00m\u001b[38;5;21;01mpython\u001b[39;00m\u001b[38;5;21;01m.\u001b[39;00m\u001b[38;5;21;01mutil\u001b[39;00m\u001b[38;5;21;01m.\u001b[39;00m\u001b[38;5;21;01mtf_export\u001b[39;00m\u001b[38;5;250m \u001b[39m\u001b[38;5;28;01mimport\u001b[39;00m tf_export\n\u001b[1;32m     24\u001b[0m \u001b[38;5;129;43m@deprecation\u001b[39;49m\u001b[38;5;241;43m.\u001b[39;49m\u001b[43mdeprecated\u001b[49m\u001b[43m(\u001b[49m\u001b[38;5;28;43;01mNone\u001b[39;49;00m\u001b[43m,\u001b[49m\u001b[43m \u001b[49m\u001b[38;5;124;43m\"\u001b[39;49m\u001b[38;5;124;43mUse `tf.data.Dataset.random(...)`.\u001b[39;49m\u001b[38;5;124;43m\"\u001b[39;49m\u001b[43m)\u001b[49m\n\u001b[1;32m     25\u001b[0m \u001b[38;5;129;43m@tf_export\u001b[39;49m\u001b[43m(\u001b[49m\u001b[38;5;124;43m\"\u001b[39;49m\u001b[38;5;124;43mdata.experimental.RandomDataset\u001b[39;49m\u001b[38;5;124;43m\"\u001b[39;49m\u001b[43m,\u001b[49m\u001b[43m \u001b[49m\u001b[43mv1\u001b[49m\u001b[38;5;241;43m=\u001b[39;49m\u001b[43m[\u001b[49m\u001b[43m]\u001b[49m\u001b[43m)\u001b[49m\n\u001b[0;32m---> 26\u001b[0m \u001b[38;5;28;43;01mclass\u001b[39;49;00m\u001b[38;5;250;43m \u001b[39;49m\u001b[38;5;21;43;01mRandomDatasetV2\u001b[39;49;00m\u001b[43m(\u001b[49m\u001b[43mdataset_ops\u001b[49m\u001b[38;5;241;43m.\u001b[39;49m\u001b[43mRandomDataset\u001b[49m\u001b[43m)\u001b[49m\u001b[43m:\u001b[49m\n\u001b[1;32m     27\u001b[0m \u001b[38;5;250;43m  \u001b[39;49m\u001b[38;5;124;43;03m\"\"\"A `Dataset` of pseudorandom values.\"\"\"\u001b[39;49;00m\n\u001b[1;32m     30\u001b[0m \u001b[38;5;129m@deprecation\u001b[39m\u001b[38;5;241m.\u001b[39mdeprecated(\u001b[38;5;28;01mNone\u001b[39;00m, \u001b[38;5;124m\"\u001b[39m\u001b[38;5;124mUse `tf.data.Dataset.random(...)`.\u001b[39m\u001b[38;5;124m\"\u001b[39m)\n\u001b[1;32m     31\u001b[0m \u001b[38;5;129m@tf_export\u001b[39m(v1\u001b[38;5;241m=\u001b[39m[\u001b[38;5;124m\"\u001b[39m\u001b[38;5;124mdata.experimental.RandomDataset\u001b[39m\u001b[38;5;124m\"\u001b[39m])\n\u001b[1;32m     32\u001b[0m \u001b[38;5;28;01mclass\u001b[39;00m\u001b[38;5;250m \u001b[39m\u001b[38;5;21;01mRandomDatasetV1\u001b[39;00m(dataset_ops\u001b[38;5;241m.\u001b[39mDatasetV1Adapter):\n",
      "File \u001b[0;32m/usr/local/lib/python3.8/dist-packages/tensorflow/python/util/deprecation.py:365\u001b[0m, in \u001b[0;36mdeprecated.<locals>.deprecated_wrapper\u001b[0;34m(func_or_class)\u001b[0m\n\u001b[1;32m    359\u001b[0m doc_controls\u001b[38;5;241m.\u001b[39mset_deprecated(new_func)\n\u001b[1;32m    360\u001b[0m new_func \u001b[38;5;241m=\u001b[39m tf_decorator\u001b[38;5;241m.\u001b[39mmake_decorator(\n\u001b[1;32m    361\u001b[0m     func, new_func, \u001b[38;5;124m'\u001b[39m\u001b[38;5;124mdeprecated\u001b[39m\u001b[38;5;124m'\u001b[39m,\n\u001b[1;32m    362\u001b[0m     _add_deprecated_function_notice_to_docstring(func\u001b[38;5;241m.\u001b[39m\u001b[38;5;18m__doc__\u001b[39m, date,\n\u001b[1;32m    363\u001b[0m                                                  instructions))\n\u001b[0;32m--> 365\u001b[0m \u001b[38;5;28;01mif\u001b[39;00m \u001b[38;5;28;43mcls\u001b[39;49m\u001b[43m \u001b[49m\u001b[38;5;129;43;01mis\u001b[39;49;00m\u001b[43m \u001b[49m\u001b[38;5;28;43;01mNone\u001b[39;49;00m:\n\u001b[1;32m    366\u001b[0m   \u001b[38;5;28;01mreturn\u001b[39;00m new_func\n\u001b[1;32m    367\u001b[0m \u001b[38;5;28;01melse\u001b[39;00m:\n\u001b[1;32m    368\u001b[0m   \u001b[38;5;66;03m# Insert the wrapped function as the constructor\u001b[39;00m\n",
      "\u001b[0;31mKeyboardInterrupt\u001b[0m: "
     ]
    }
   ],
   "source": [
    "import tensorflow as tf, numpy as np, os\n",
    "\n",
    "IMG = 224\n",
    "IMG_SHAPE = (IMG, IMG, 3)\n",
    "\n",
    "# ────────── ①  大模型（~6 MB，批次固定 1） ──────────\n",
    "inp = tf.keras.Input(shape=IMG_SHAPE, batch_size=1)     ### ← 修改\n",
    "x   = tf.keras.applications.mobilenet_v2.preprocess_input(inp)\n",
    "\n",
    "large_base = tf.keras.applications.MobileNet(\n",
    "    input_tensor=x, alpha=1.0,\n",
    "    include_top=False, weights='imagenet')\n",
    "x = tf.keras.layers.Conv2D(64, 3, activation='relu')(large_base.output)\n",
    "x = tf.keras.layers.GlobalAveragePooling2D()(x)\n",
    "out = tf.keras.layers.Dense(5, activation='softmax')(x)\n",
    "full_model = tf.keras.Model(inp, out, name='large')\n",
    "\n",
    "print(\"总参数:\", full_model.count_params())\n",
    "\n",
    "# ────────── ②  计算切点 ──────────\n",
    "layers = [l for l in full_model.layers if l.weights]      # 不含 Input\n",
    "p    = np.array([l.count_params() for l in layers])\n",
    "cum  = p.cumsum() / p.sum()\n",
    "cuts_idx = [np.searchsorted(cum, q) for q in (0.25, 0.50, 0.75)]\n",
    "print(\"切点 idx:\", cuts_idx, \"→\",\n",
    "      [round(float(cum[i]), 3) for i in cuts_idx])\n",
    "\n",
    "# ────────── ③  按 for-loop 构子网，批次仍固定 1 ──────────\n",
    "def segment(start, stop, in_shape, name):\n",
    "    x_in = tf.keras.Input(shape=in_shape, batch_size=1, name=name+'_in')  ### ← 修改\n",
    "    x = x_in\n",
    "    for l in layers[start:stop]:\n",
    "        x = l(x)\n",
    "    return tf.keras.Model(x_in, x, name=name)\n",
    "\n",
    "seg0 = segment(0,              cuts_idx[0], IMG_SHAPE,             'seg0')\n",
    "seg1 = segment(cuts_idx[0],    cuts_idx[1], seg0.output_shape[1:], 'seg1')\n",
    "seg2 = segment(cuts_idx[1],    cuts_idx[2], seg1.output_shape[1:], 'seg2')\n",
    "seg3 = segment(cuts_idx[2], len(layers),    seg2.output_shape[1:], 'seg3')\n",
    "\n",
    "# ────────── ④  INT8 量化导出 (batch=1) ──────────\n",
    "def rep_gen(shape):\n",
    "    for _ in range(100):\n",
    "        yield [np.random.rand(1,*shape).astype(np.float32)*2-1]\n",
    "\n",
    "def export_int8(model, fname):\n",
    "    conv = tf.lite.TFLiteConverter.from_keras_model(model)\n",
    "    conv.optimizations = [tf.lite.Optimize.DEFAULT]\n",
    "    conv.representative_dataset = lambda: rep_gen(model.input_shape[1:])\n",
    "    conv.target_spec.supported_ops = [tf.lite.OpsSet.TFLITE_BUILTINS_INT8]\n",
    "    conv.inference_input_type = conv.inference_output_type = tf.int8\n",
    "    open(fname, 'wb').write(conv.convert())\n",
    "    print(f\"{fname:13s}{os.path.getsize(fname)/1024:6.1f} KB\")\n",
    "\n",
    "for m, f in ((seg0,'seg0.tflite'), (seg1,'seg1.tflite'),\n",
    "             (seg2,'seg2.tflite'), (seg3,'seg3.tflite')):\n",
    "    export_int8(m, f)\n",
    "\n",
    "print(\"\\n联合编译命令：\")\n",
    "print(\"edgetpu_compiler -s seg0.tflite seg1.tflite seg2.tflite seg3.tflite\")\n"
   ]
  },
  {
   "cell_type": "markdown",
   "id": "904a487d",
   "metadata": {},
   "source": [
    "# 编译小模型（生成 small_model_edgetpu.tflite）\n",
    "edgetpu_compiler -s small_model.tflite\n",
    "\n",
    "# 编译大模型，并切分为4段（生成 large_model_segment_0_edgetpu.tflite 等4个文件）\n",
    "edgetpu_compiler -s --num_segments=4 large_model.tflite\n",
    "\n",
    "#联合编译\n",
    "edgetpu_compiler -s small_model.tflite seg0.tflite seg1.tflite seg2.tflite seg3.tflite\n",
    "# → five *_edgetpu.tflite ，日志同一个 Caching token\n"
   ]
  },
  {
   "cell_type": "code",
   "execution_count": 7,
   "id": "20dae283",
   "metadata": {},
   "outputs": [
    {
     "name": "stdout",
     "output_type": "stream",
     "text": [
      "Edge TPU Compiler version 16.0.384591198\n",
      "Started a compilation timeout timer of 180 seconds.\n",
      "\n",
      "Models compiled successfully in 1854 ms.\n",
      "\n",
      "Input model: models/model_7m.tflite\n",
      "Input size: 6.31MiB\n",
      "Output model: model_7m_edgetpu.tflite\n",
      "Output size: 6.67MiB\n",
      "On-chip memory used for caching model parameters: 6.08MiB\n",
      "On-chip memory remaining for caching model parameters: 0.00B\n",
      "Off-chip memory used for streaming uncached model parameters: 547.25KiB\n",
      "Number of Edge TPU subgraphs: 1\n",
      "Total number of operations: 36\n",
      "Operation log: model_7m_edgetpu.log\n",
      "\n",
      "Operator                       Count      Status\n",
      "\n",
      "PAD                            4          Mapped to Edge TPU\n",
      "FULLY_CONNECTED                1          Mapped to Edge TPU\n",
      "CONV_2D                        14         Mapped to Edge TPU\n",
      "QUANTIZE                       2          Mapped to Edge TPU\n",
      "DEPTHWISE_CONV_2D              13         Mapped to Edge TPU\n",
      "SOFTMAX                        1          Mapped to Edge TPU\n",
      "MEAN                           1          Mapped to Edge TPU\n",
      "\n",
      "Input model: models/mobilenet_v2_1.0_224_quant.tflite\n",
      "Input size: 2.94MiB\n",
      "Output model: mobilenet_v2_1.0_224_quant_edgetpu.tflite\n",
      "Output size: 3.13MiB\n",
      "On-chip memory used for caching model parameters: 1.56MiB\n",
      "On-chip memory remaining for caching model parameters: 0.00B\n",
      "Off-chip memory used for streaming uncached model parameters: 1.75MiB\n",
      "Number of Edge TPU subgraphs: 1\n",
      "Total number of operations: 72\n",
      "Operation log: mobilenet_v2_1.0_224_quant_edgetpu.log\n",
      "\n",
      "Operator                       Count      Status\n",
      "\n",
      "ADD                            10         Mapped to Edge TPU\n",
      "SOFTMAX                        1          Mapped to Edge TPU\n",
      "PAD                            4          Mapped to Edge TPU\n",
      "MEAN                           1          Mapped to Edge TPU\n",
      "DEPTHWISE_CONV_2D              17         Mapped to Edge TPU\n",
      "CONV_2D                        36         Mapped to Edge TPU\n",
      "FULLY_CONNECTED                1          Mapped to Edge TPU\n",
      "QUANTIZE                       2          Mapped to Edge TPU\n",
      "Compilation child process completed within timeout period.\n",
      "Compilation succeeded! \n"
     ]
    }
   ],
   "source": [
    "import os\n",
    "\n",
    "# 分别和4m、5m、6m联合编译\n",
    "\n",
    "# 定义模型路径和输出文件名\n",
    "models = [\n",
    "    (\"models/model_7m.tflite\", \"v2_224_run7m_edgetpu.tflite\"),\n",
    "    # (\"models/model_5m.tflite\", \"v2_224_run5m_edgetpu.tflite\"),\n",
    "    # (\"models/model_6m.tflite\", \"v2_224_run6m_edgetpu.tflite\"),\n",
    "]\n",
    "quant_model = \"models/mobilenet_v2_1.0_224_quant.tflite\"\n",
    "\n",
    "for model_path, output_name in models:\n",
    "    cmd = (\n",
    "        f\"edgetpu_compiler -s {model_path} {quant_model} \"\n",
    "        f\"&& mv mobilenet_v2_1.0_224_quant_edgetpu.tflite {output_name}\"\n",
    "    )\n",
    "    os.system(cmd)\n"
   ]
  },
  {
   "cell_type": "code",
   "execution_count": 8,
   "id": "f5d82560",
   "metadata": {},
   "outputs": [
    {
     "name": "stdout",
     "output_type": "stream",
     "text": [
      "Edge TPU Compiler version 16.0.384591198\n",
      "/usr/bin/edgetpu_compiler: line 3: 28407 Segmentation fault      (core dumped) ${d}/edgetpu_compiler_bin/ld-linux-x86-64.so.2 --library-path ${d}/edgetpu_compiler_bin ${d}/edgetpu_compiler_bin/edgetpu_compiler \"$@\"\n",
      "/usr/bin/edgetpu_compiler: line 3: 28407 Segmentation fault      (core dumped) ${d}/edgetpu_compiler_bin/ld-linux-x86-64.so.2 --library-path ${d}/edgetpu_compiler_bin ${d}/edgetpu_compiler_bin/edgetpu_compiler \"$@\"\n"
     ]
    }
   ],
   "source": [
    "!edgetpu_compiler -s --num_segments=2 ./models/model_24m.tflite"
   ]
  }
 ],
 "metadata": {
  "kernelspec": {
   "display_name": "Python 3",
   "language": "python",
   "name": "python3"
  },
  "language_info": {
   "codemirror_mode": {
    "name": "ipython",
    "version": 3
   },
   "file_extension": ".py",
   "mimetype": "text/x-python",
   "name": "python",
   "nbconvert_exporter": "python",
   "pygments_lexer": "ipython3",
   "version": "3.8.10"
  }
 },
 "nbformat": 4,
 "nbformat_minor": 5
}
